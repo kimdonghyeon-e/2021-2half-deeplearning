{
 "cells": [
  {
   "cell_type": "code",
   "execution_count": 13,
   "metadata": {},
   "outputs": [],
   "source": [
    "from tkinter import *\n",
    "from PIL import Image, ImageTk\n",
    "\n",
    "win = Tk()\n",
    "win.title(\"검사 결과\")\n",
    "win.geometry(\"700x700\") \n",
    "\n",
    "chkvar = IntVar() # chkvar 에 int 형으로 값을 저장한다\n",
    "chkbox = Checkbutton(win, text=\"코로나 확진\", variable=chkvar)\n",
    "chkbox.select() # 자동 선택 처리\n",
    "# chkbox.deselect() # 선택 해제 처리\n",
    "chkbox.pack()\n",
    "\n",
    "chkvar2 = IntVar()\n",
    "chkbox2 = Checkbutton(win, text=\"일반 폐렴\", variable=chkvar2)\n",
    "chkbox2.pack()\n",
    "#chkbox2.select() # 자동 선택 처리\n",
    "# chkbox2.deselect() # 선택 해제 처리\n",
    "\n",
    "chkvar3 = IntVar()\n",
    "chkbox3 = Checkbutton(win, text=\"정상\", variable=chkvar3)\n",
    "chkbox3.pack()\n",
    "#chkbox3.select() # 자동 선택 처리\n",
    "#chkbox3.deselect() # 선택 해제 처리\n",
    "\n",
    "wall = ImageTk.PhotoImage(Image.open(\"saved.png\"), master=win)\n",
    "wall_label = Label(win, image = wall) \n",
    "wall_label.place(x = 50,y = 200) \n",
    "wall_label.pack()\n",
    "\n",
    "win.mainloop()"
   ]
  },
  {
   "cell_type": "code",
   "execution_count": null,
   "metadata": {},
   "outputs": [
    {
     "ename": "Error",
     "evalue": "Session cannot generate requests",
     "output_type": "error",
     "traceback": [
      "Error: Session cannot generate requests",
      "at S.executeCodeCell (c:\\Users\\b0198\\.vscode\\extensions\\ms-toolsai.jupyter-2021.10.1101450599\\out\\client\\extension.js:66:301742)",
      "at S.execute (c:\\Users\\b0198\\.vscode\\extensions\\ms-toolsai.jupyter-2021.10.1101450599\\out\\client\\extension.js:66:300732)",
      "at S.start (c:\\Users\\b0198\\.vscode\\extensions\\ms-toolsai.jupyter-2021.10.1101450599\\out\\client\\extension.js:66:296408)",
      "at runMicrotasks (<anonymous>)",
      "at processTicksAndRejections (internal/process/task_queues.js:93:5)",
      "at async t.CellExecutionQueue.executeQueuedCells (c:\\Users\\b0198\\.vscode\\extensions\\ms-toolsai.jupyter-2021.10.1101450599\\out\\client\\extension.js:66:312326)",
      "at async t.CellExecutionQueue.start (c:\\Users\\b0198\\.vscode\\extensions\\ms-toolsai.jupyter-2021.10.1101450599\\out\\client\\extension.js:66:311862)"
     ]
    }
   ],
   "source": []
  },
  {
   "cell_type": "code",
   "execution_count": null,
   "metadata": {},
   "outputs": [],
   "source": []
  },
  {
   "cell_type": "code",
   "execution_count": 2,
   "metadata": {},
   "outputs": [],
   "source": []
  },
  {
   "cell_type": "code",
   "execution_count": 33,
   "metadata": {},
   "outputs": [],
   "source": []
  },
  {
   "cell_type": "code",
   "execution_count": 10,
   "metadata": {},
   "outputs": [],
   "source": [
    "from tkinter import *\n",
    "from PIL import ImageTk, Image\n",
    "from tkinter import filedialog\n",
    "from matplotlib.pyplot import imread\n",
    "import imageio #pip imstall imageio\n",
    "import matplotlib as mpl\n",
    "import matplotlib.pyplot as plt\n",
    "\n",
    " \n",
    "root = Tk()\n",
    "root.title('covid check_select image')\n",
    " \n",
    "def open():\n",
    "    global my_image # 함수에서 이미지를 기억하도록 전역변수 선언 (안하면 사진이 안보임)\n",
    "    root.filename = filedialog.askopenfilename(initialdir='', title='파일선택', filetypes=(\n",
    "    ('png files', '*.png'), ('jpg files', '*.jpg'), ('all files', '*.*')))\n",
    "\n",
    "    print(root.filename)\n",
    "    global openedimg\n",
    "    openedimg = imread(root.filename)\n",
    "\n",
    "    imageio.imwrite('saved.png', openedimg)\n",
    "\n",
    "    global imgname\n",
    "    imgname = root.filename\n",
    "\n",
    "    viewopen()\n",
    "\n",
    "def viewopen():\n",
    "    view = Tk()\n",
    "    view.title('covid check_view image')\n",
    "    view.geometry('700x700')\n",
    "\n",
    "    root.destroy()\n",
    "\n",
    "    wall = ImageTk.PhotoImage(Image.open(\"saved.png\"), master=view)\n",
    "    wall_label = Label(view, image = wall) \n",
    "    wall_label.place(x = 50,y = 200) \n",
    "    wall_label.pack()\n",
    "\n",
    "    view.mainloop()\n",
    "\n",
    " \n",
    "my_btn = Button(root, text='파일열기', command=open).pack()\n",
    "\n",
    "root.mainloop()"
   ]
  },
  {
   "cell_type": "code",
   "execution_count": null,
   "metadata": {},
   "outputs": [],
   "source": []
  },
  {
   "cell_type": "code",
   "execution_count": 3,
   "metadata": {},
   "outputs": [
    {
     "name": "stdout",
     "output_type": "stream",
     "text": [
      "hi\n",
      "hi\n",
      "hi\n",
      "hi\n"
     ]
    }
   ],
   "source": [
    "from tkinter import *\n",
    "from PIL import ImageTk, Image\n",
    "from tkinter import filedialog\n",
    "\n",
    "root = Tk()\n",
    "root.title('covid19 checker')\n",
    "root.geometry('700x700')\n",
    "\n",
    "def open_img() :\n",
    "    # try :\n",
    "    #     dirlabel.destroy()\n",
    "    # except :\n",
    "    #     print('dirlabel not destroyed')\n",
    "    # try :\n",
    "    #     viewlabel.destroy()\n",
    "    # except :\n",
    "    #     print('viewlabel not destroyed')\n",
    "    # try :\n",
    "    #     btn_submit.destroy()\n",
    "    # except :\n",
    "    #     print('btn_submit not destroyed')\n",
    "\n",
    "    global load_image\n",
    "    root.filename = filedialog.askopenfilename(initialdir='', title='파일선택', filetypes=(\n",
    "    ('png files', '*.png'), ('jpg files', '*.jpg'), ('all files', '*.*')))\n",
    "\n",
    "    dirlabel = Label(root, text=root.filename) # 파일경로 view\n",
    "    load_image = ImageTk.PhotoImage(Image.open(root.filename))\n",
    "    viewlabel = Label(image=load_image) #사진 view\n",
    "    dirlabel.pack()\n",
    "    viewlabel.pack()\n",
    "    btn_submit = Button(root, text='검사', command=img_submit)\n",
    "    btn_submit.pack()\n",
    "\n",
    "    \n",
    "\n",
    "def img_submit() :\n",
    "    print('hi')\n",
    "\n",
    "# global btn_open\n",
    "btn_open = Button(root, text='파일열기', command=open_img)\n",
    "btn_open.pack()\n",
    "# btn_open.dsitroy()\n",
    "# btn_submit.pack()\n",
    "root.mainloop()"
   ]
  },
  {
   "cell_type": "code",
   "execution_count": null,
   "metadata": {},
   "outputs": [],
   "source": []
  },
  {
   "cell_type": "code",
   "execution_count": 23,
   "metadata": {},
   "outputs": [
    {
     "name": "stderr",
     "output_type": "stream",
     "text": [
      "Exception in Tkinter callback\n",
      "Traceback (most recent call last):\n",
      "  File \"C:\\Users\\b0198\\anaconda3\\lib\\tkinter\\__init__.py\", line 1892, in __call__\n",
      "    return self.func(*args)\n",
      "  File \"<ipython-input-23-5e53e67999be>\", line 17, in open_img\n",
      "    dirlable.destroy()\n",
      "AttributeError: 'NoneType' object has no attribute 'destroy'\n"
     ]
    }
   ],
   "source": []
  },
  {
   "cell_type": "code",
   "execution_count": null,
   "metadata": {},
   "outputs": [],
   "source": []
  },
  {
   "cell_type": "code",
   "execution_count": 24,
   "metadata": {},
   "outputs": [
    {
     "name": "stderr",
     "output_type": "stream",
     "text": [
      "Lossy conversion from float32 to uint8. Range [0, 1]. Convert image to uint8 prior to saving to suppress this warning.\n"
     ]
    },
    {
     "name": "stdout",
     "output_type": "stream",
     "text": [
      "C:/Users/b0198/OneDrive/Pictures/카메라 앨범/1607071430458.png\n",
      "hi\n"
     ]
    }
   ],
   "source": [
    "from tkinter import *\n",
    "from PIL import ImageTk, Image\n",
    "from tkinter import filedialog\n",
    "from matplotlib.pyplot import imread\n",
    "import imageio #pip imstall imageio\n",
    "import matplotlib as mpl\n",
    "import matplotlib.pyplot as plt\n",
    "\n",
    " \n",
    "root = Tk()\n",
    "root.title('covid check_select image')\n",
    "root.geometry('700x700')\n",
    " \n",
    "def open():         #파일 가져올부분\n",
    "    global my_image # 함수에서 이미지를 기억하도록 전역변수 선언 (안하면 사진이 안보임)\n",
    "    root.filename = filedialog.askopenfilename(initialdir='', title='파일선택', filetypes=(\n",
    "    ('png files', '*.png'), ('jpg files', '*.jpg'), ('all files', '*.*')))\n",
    "\n",
    "    print(root.filename)\n",
    "    global openedimg\n",
    "    openedimg = imread(root.filename)\n",
    "\n",
    "    imageio.imwrite('saved.png', openedimg)\n",
    "\n",
    "    Label(root, text=root.filename).pack() # 파일경로 view\n",
    "    my_image = ImageTk.PhotoImage(Image.open(root.filename))\n",
    "    Label(image=my_image).pack() #사진 view\n",
    "    btn_submit = Button(root, text='검사', command=run)\n",
    "    btn_submit.pack()\n",
    "\n",
    "def run():          #딥러닝 돌릴부분(만들기)\n",
    "    print('hi')\n",
    "    root.destroy()\n",
    "    #돌릴내용\n",
    "    viewopen()\n",
    "    \n",
    "def viewopen():     #돌린거 보여줄부분\n",
    "    view = Tk()\n",
    "    view.title('covid check_view image')\n",
    "    view.geometry('700x700')\n",
    "    chkvar = IntVar() # chkvar 에 int 형으로 값을 저장한다\n",
    "    chkbox = Checkbutton(view, text=\"코로나 확진\", variable=chkvar)\n",
    "    chkbox.select() # 자동 선택 처리\n",
    "    # chkbox.deselect() # 선택 해제 처리\n",
    "    chkbox.pack()\n",
    "\n",
    "    chkvar2 = IntVar()\n",
    "    chkbox2 = Checkbutton(view, text=\"일반 폐렴\", variable=chkvar2)\n",
    "    chkbox2.pack()\n",
    "    #chkbox2.select() # 자동 선택 처리\n",
    "    # chkbox2.deselect() # 선택 해제 처리\n",
    "\n",
    "    chkvar3 = IntVar()\n",
    "    chkbox3 = Checkbutton(view, text=\"정상\", variable=chkvar3)\n",
    "    chkbox3.pack()\n",
    "    #chkbox3.select() # 자동 선택 처리\n",
    "    #chkbox3.deselect() # 선택 해제 처리\n",
    "\n",
    "    wall = ImageTk.PhotoImage(Image.open(\"saved.png\"), master=view)\n",
    "    wall_label = Label(view, image = wall) \n",
    "    wall_label.place(x = 50,y = 200) \n",
    "    wall_label.pack()\n",
    "\n",
    "    view.mainloop()\n",
    "\n",
    " \n",
    "my_btn = Button(root, text='파일열기', command=open)\n",
    "my_btn.pack()\n",
    "\n",
    "root.mainloop()\n"
   ]
  },
  {
   "cell_type": "code",
   "execution_count": null,
   "metadata": {},
   "outputs": [],
   "source": []
  },
  {
   "cell_type": "code",
   "execution_count": 1,
   "metadata": {},
   "outputs": [],
   "source": [
    "from tkinter import *\n",
    "from PIL import ImageTk, Image\n",
    "from tkinter import filedialog\n",
    "from matplotlib.pyplot import imread\n",
    "import imageio #pip imstall imageio\n",
    "import matplotlib as mpl\n",
    "import matplotlib.pyplot as plt\n",
    "import numpy as np\n",
    "import seaborn as sns\n",
    "import os\n",
    "import cv2\n",
    "import tensorflow as tf\n",
    "from PIL import ImageOps, Image\n",
    "from tensorflow.keras import layers, optimizers\n",
    "from tensorflow.keras.applications.vgg16 import VGG16\n",
    "from tensorflow.keras.layers import *\n",
    "from tensorflow.keras.models import Model, load_model\n",
    "from tensorflow.keras.callbacks import EarlyStopping, ModelCheckpoint"
   ]
  },
  {
   "cell_type": "code",
   "execution_count": 5,
   "metadata": {},
   "outputs": [],
   "source": [
    "#이미지 사이즈 조절용 함수\n",
    "def read_and_preprocess(img_path):\n",
    "    img = cv2.imread(img_path, cv2.IMREAD_COLOR) # reading the image\n",
    "    img = cv2.resize(img, (256, 256)) # resizing it (I just like it to be powers of 2)\n",
    "    img = np.array(img, dtype='float32') # convert its datatype so that it could be normalized\n",
    "    img = img/255 # normalization (now every pixel is in the range of 0 and 1)\n",
    "    img = np.expand_dims(img, axis=0)\n",
    "    return img"
   ]
  },
  {
   "cell_type": "code",
   "execution_count": 6,
   "metadata": {},
   "outputs": [],
   "source": [
    "img_pre = []\n",
    "img_pre.append(read_and_preprocess('./saved.png'))"
   ]
  },
  {
   "cell_type": "code",
   "execution_count": 7,
   "metadata": {},
   "outputs": [
    {
     "name": "stdout",
     "output_type": "stream",
     "text": [
      "[array([[[[0.5019608 , 0.7176471 , 0.21960784],\n",
      "         [0.5019608 , 0.7176471 , 0.21960784],\n",
      "         [0.50980395, 0.7254902 , 0.22745098],\n",
      "         ...,\n",
      "         [0.6431373 , 0.9098039 , 0.9372549 ],\n",
      "         [0.6392157 , 0.90588236, 0.9254902 ],\n",
      "         [0.6431373 , 0.9098039 , 0.92941177]],\n",
      "\n",
      "        [[0.5019608 , 0.7176471 , 0.21960784],\n",
      "         [0.5019608 , 0.7176471 , 0.21960784],\n",
      "         [0.50980395, 0.7254902 , 0.22745098],\n",
      "         ...,\n",
      "         [0.6431373 , 0.9098039 , 0.9372549 ],\n",
      "         [0.6392157 , 0.90588236, 0.9254902 ],\n",
      "         [0.6431373 , 0.9098039 , 0.92941177]],\n",
      "\n",
      "        [[0.5019608 , 0.7137255 , 0.22352941],\n",
      "         [0.5019608 , 0.7176471 , 0.21960784],\n",
      "         [0.50980395, 0.7254902 , 0.22745098],\n",
      "         ...,\n",
      "         [0.6431373 , 0.9098039 , 0.92941177],\n",
      "         [0.6392157 , 0.90588236, 0.9254902 ],\n",
      "         [0.6431373 , 0.9098039 , 0.92941177]],\n",
      "\n",
      "        ...,\n",
      "\n",
      "        [[0.6431373 , 0.9098039 , 0.92941177],\n",
      "         [0.6392157 , 0.90588236, 0.9254902 ],\n",
      "         [0.6431373 , 0.9098039 , 0.92941177],\n",
      "         ...,\n",
      "         [0.4       , 0.6627451 , 0.25882354],\n",
      "         [0.3764706 , 0.6745098 , 0.2509804 ],\n",
      "         [0.35686275, 0.654902  , 0.23137255]],\n",
      "\n",
      "        [[0.6431373 , 0.9098039 , 0.9372549 ],\n",
      "         [0.6392157 , 0.90588236, 0.93333334],\n",
      "         [0.6431373 , 0.9098039 , 0.9372549 ],\n",
      "         ...,\n",
      "         [0.4       , 0.7019608 , 0.24313726],\n",
      "         [0.3882353 , 0.69411767, 0.24313726],\n",
      "         [0.3529412 , 0.65882355, 0.20784314]],\n",
      "\n",
      "        [[0.63529414, 0.9098039 , 0.9372549 ],\n",
      "         [0.63529414, 0.9098039 , 0.9372549 ],\n",
      "         [0.63529414, 0.9098039 , 0.9372549 ],\n",
      "         ...,\n",
      "         [0.3764706 , 0.69411767, 0.20392157],\n",
      "         [0.39607844, 0.69411767, 0.23529412],\n",
      "         [0.36862746, 0.6666667 , 0.21176471]]]], dtype=float32)]\n"
     ]
    }
   ],
   "source": [
    "print(img_pre)"
   ]
  },
  {
   "cell_type": "code",
   "execution_count": 8,
   "metadata": {},
   "outputs": [],
   "source": [
    "opt = optimizers.Adam(learning_rate=0.0001)\n",
    "# Load pretrained model (best saved one)\n",
    "with open('covid_classifier_model.json', 'r') as json_file:\n",
    "    json_savedModel= json_file.read()\n",
    "# load the model  \n",
    "model = tf.keras.models.model_from_json(json_savedModel)\n",
    "model.load_weights('covid_classifier_weights.h5')\n",
    "model.compile(loss = 'sparse_categorical_crossentropy', optimizer=opt, metrics= [\"accuracy\"])"
   ]
  },
  {
   "cell_type": "code",
   "execution_count": 10,
   "metadata": {},
   "outputs": [],
   "source": [
    "prediction = model.predict(img_pre[0])\n",
    "num = prediction.argmax()"
   ]
  },
  {
   "cell_type": "code",
   "execution_count": 11,
   "metadata": {},
   "outputs": [
    {
     "name": "stdout",
     "output_type": "stream",
     "text": [
      "0\n"
     ]
    }
   ],
   "source": [
    "print(num)"
   ]
  },
  {
   "cell_type": "code",
   "execution_count": null,
   "metadata": {},
   "outputs": [],
   "source": []
  },
  {
   "cell_type": "code",
   "execution_count": 1,
   "metadata": {},
   "outputs": [
    {
     "name": "stdout",
     "output_type": "stream",
     "text": [
      "Z:/OneDrive/Documents/수업/딥러닝/텀프/Covid19-dataset/test/Normal/0101.jpeg\n"
     ]
    },
    {
     "name": "stderr",
     "output_type": "stream",
     "text": [
      "Exception in Tkinter callback\n",
      "Traceback (most recent call last):\n",
      "  File \"C:\\Users\\b0198\\anaconda3\\lib\\tkinter\\__init__.py\", line 1892, in __call__\n",
      "    return self.func(*args)\n",
      "  File \"<ipython-input-1-7b2b2b1e9e8f>\", line 58, in open\n",
      "    my_image = cv2.resize(my_image, (450, 450))\n",
      "TypeError: Expected cv::UMat for argument 'src'\n"
     ]
    }
   ],
   "source": [
    "from tkinter import *\n",
    "from PIL import ImageTk, Image\n",
    "from tkinter import filedialog\n",
    "from matplotlib.pyplot import imread\n",
    "import imageio #pip imstall imageio\n",
    "import matplotlib as mpl\n",
    "import matplotlib.pyplot as plt\n",
    "import numpy as np\n",
    "import seaborn as sns\n",
    "import os\n",
    "import cv2\n",
    "import tensorflow as tf\n",
    "from PIL import ImageOps, Image\n",
    "from tensorflow.keras import layers, optimizers\n",
    "from tensorflow.keras.applications.vgg16 import VGG16\n",
    "from tensorflow.keras.layers import *\n",
    "from tensorflow.keras.models import Model, load_model\n",
    "from tensorflow.keras.callbacks import EarlyStopping, ModelCheckpoint\n",
    "\n",
    "num = 0 \n",
    "\n",
    "#이미지 사이즈 조절용 함수\n",
    "def read_and_preprocess(img_path):\n",
    "    img = cv2.imread(img_path, cv2.IMREAD_COLOR) # reading the image\n",
    "    img = cv2.resize(img, (256, 256)) # resizing it (I just like it to be powers of 2)\n",
    "    img = np.array(img, dtype='float32') # convert its datatype so that it could be normalized\n",
    "    img = img/255 # normalization (now every pixel is in the range of 0 and 1)\n",
    "    img = np.expand_dims(img, axis=0)\n",
    "    return img\n",
    "\n",
    "opt = optimizers.Adam(learning_rate=0.0001)\n",
    "\n",
    "# Load pretrained model (best saved one)\n",
    "with open('covid_classifier_model.json', 'r') as json_file:\n",
    "    json_savedModel= json_file.read()\n",
    "# load the model  \n",
    "model = tf.keras.models.model_from_json(json_savedModel)\n",
    "model.load_weights('covid_classifier_weights.h5')\n",
    "model.compile(loss = 'sparse_categorical_crossentropy', optimizer=opt, metrics= [\"accuracy\"])\n",
    "\n",
    "root = Tk()\n",
    "root.title('covid check_select image')\n",
    "root.geometry('700x700')\n",
    " \n",
    "def open():         #파일 가져올부분\n",
    "    global my_image # 함수에서 이미지를 기억하도록 전역변수 선언 (안하면 사진이 안보임)\n",
    "    root.filename = filedialog.askopenfilename(initialdir='', title='파일선택', filetypes=(\n",
    "    ('png files', '*.png'), ('jpg files', '*.jpg'), ('all files', '*.*')))\n",
    "\n",
    "    print(root.filename)\n",
    "    global openedimg\n",
    "    openedimg = imread(root.filename)\n",
    "\n",
    "    imageio.imwrite('saved.png', openedimg)\n",
    "\n",
    "    Label(root, text=root.filename).pack() # 파일경로 view\n",
    "    my_image = ImageTk.PhotoImage(Image.open(root.filename))\n",
    "    # my_image = cv2.resize(my_image, (450, 450))\n",
    "    Label(image=my_image, height = 250, width = 250).pack() #사진 view\n",
    "    btn_submit = Button(root, text='검사', command=run)\n",
    "    btn_submit.pack()\n",
    "\n",
    "def run():          #딥러닝 돌릴부분(만들기)\n",
    "    print('hi')\n",
    "    root.destroy()\n",
    "    img_pre = []\n",
    "    img_pre.append(read_and_preprocess('./saved.png'))\n",
    "    prediction = model.predict(img_pre[0])\n",
    "    num = prediction.argmax()\n",
    "    print(num)\n",
    "    viewopen()\n",
    "    \n",
    "def viewopen():     #돌린거 보여줄부분\n",
    "    view = Tk()\n",
    "    view.title('covid check_view image')\n",
    "    view.geometry('700x700')\n",
    "    chkvar = IntVar() # chkvar 에 int 형으로 값을 저장한다\n",
    "    chkbox = Checkbutton(view, text=\"코로나 확진\", variable=chkvar)\n",
    "    chkbox.select() # 자동 선택 처리\n",
    "    # chkbox.deselect() # 선택 해제 처리\n",
    "    chkbox.pack()\n",
    "\n",
    "    chkvar2 = IntVar()\n",
    "    chkbox2 = Checkbutton(view, text=\"일반 폐렴\", variable=chkvar2)\n",
    "    chkbox2.pack()\n",
    "    #chkbox2.select() # 자동 선택 처리\n",
    "    # chkbox2.deselect() # 선택 해제 처리\n",
    "\n",
    "    chkvar3 = IntVar()\n",
    "    chkbox3 = Checkbutton(view, text=\"정상\", variable=chkvar3)\n",
    "    chkbox3.pack()\n",
    "    #chkbox3.select() # 자동 선택 처리\n",
    "    #chkbox3.deselect() # 선택 해제 처리\n",
    "\n",
    "    wall = ImageTk.PhotoImage(Image.open(\"saved.png\"), master=view)\n",
    "    wall_label = Label(view, image = wall) \n",
    "    wall_label.place(x = 50,y = 200) \n",
    "    wall_label.pack()\n",
    "\n",
    "    view.mainloop()\n",
    "\n",
    " \n",
    "my_btn = Button(root, text='파일열기', command=open)\n",
    "my_btn.pack()\n",
    "\n",
    "root.mainloop()\n"
   ]
  },
  {
   "cell_type": "code",
   "execution_count": null,
   "metadata": {},
   "outputs": [],
   "source": []
  },
  {
   "cell_type": "code",
   "execution_count": null,
   "metadata": {},
   "outputs": [],
   "source": []
  },
  {
   "cell_type": "code",
   "execution_count": null,
   "metadata": {},
   "outputs": [],
   "source": []
  },
  {
   "cell_type": "code",
   "execution_count": null,
   "metadata": {},
   "outputs": [],
   "source": []
  },
  {
   "cell_type": "code",
   "execution_count": null,
   "metadata": {},
   "outputs": [],
   "source": []
  },
  {
   "cell_type": "code",
   "execution_count": null,
   "metadata": {},
   "outputs": [],
   "source": []
  },
  {
   "cell_type": "code",
   "execution_count": null,
   "metadata": {},
   "outputs": [],
   "source": []
  },
  {
   "cell_type": "code",
   "execution_count": null,
   "metadata": {},
   "outputs": [],
   "source": []
  },
  {
   "cell_type": "code",
   "execution_count": null,
   "metadata": {},
   "outputs": [],
   "source": []
  },
  {
   "cell_type": "code",
   "execution_count": null,
   "metadata": {},
   "outputs": [],
   "source": []
  },
  {
   "cell_type": "code",
   "execution_count": null,
   "metadata": {},
   "outputs": [],
   "source": []
  },
  {
   "cell_type": "code",
   "execution_count": null,
   "metadata": {},
   "outputs": [],
   "source": []
  },
  {
   "cell_type": "code",
   "execution_count": null,
   "metadata": {},
   "outputs": [],
   "source": []
  },
  {
   "cell_type": "code",
   "execution_count": null,
   "metadata": {},
   "outputs": [],
   "source": []
  },
  {
   "cell_type": "code",
   "execution_count": null,
   "metadata": {},
   "outputs": [],
   "source": []
  },
  {
   "cell_type": "code",
   "execution_count": null,
   "metadata": {},
   "outputs": [],
   "source": []
  },
  {
   "cell_type": "code",
   "execution_count": null,
   "metadata": {},
   "outputs": [],
   "source": []
  },
  {
   "cell_type": "code",
   "execution_count": null,
   "metadata": {},
   "outputs": [],
   "source": []
  },
  {
   "cell_type": "code",
   "execution_count": null,
   "metadata": {},
   "outputs": [],
   "source": []
  },
  {
   "cell_type": "code",
   "execution_count": null,
   "metadata": {},
   "outputs": [],
   "source": []
  },
  {
   "cell_type": "code",
   "execution_count": null,
   "metadata": {},
   "outputs": [],
   "source": []
  }
 ],
 "metadata": {
  "kernelspec": {
   "display_name": "Python 3",
   "language": "python",
   "name": "python3"
  },
  "language_info": {
   "codemirror_mode": {
    "name": "ipython",
    "version": 3
   },
   "file_extension": ".py",
   "mimetype": "text/x-python",
   "name": "python",
   "nbconvert_exporter": "python",
   "pygments_lexer": "ipython3",
   "version": "3.8.8"
  }
 },
 "nbformat": 4,
 "nbformat_minor": 4
}
