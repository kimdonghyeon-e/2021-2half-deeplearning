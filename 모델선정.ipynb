{
 "cells": [
  {
   "cell_type": "markdown",
   "metadata": {},
   "source": [
    "# **1. 라이브러리 및 데이터**\n",
    "* 필요 라이브러리 선언"
   ]
  },
  {
   "cell_type": "code",
   "execution_count": 1,
   "metadata": {},
   "outputs": [],
   "source": [
    "import numpy as np\n",
    "import seaborn as sns\n",
    "import matplotlib.pyplot as plt\n",
    "import os\n",
    "import cv2\n",
    "import tensorflow as tf\n",
    "from tensorflow.keras import layers, optimizers\n",
    "from tensorflow.keras.applications.vgg16 import VGG16\n",
    "from tensorflow.keras.layers import *\n",
    "from tensorflow.keras.models import Model, load_model\n",
    "from tensorflow.keras.callbacks import EarlyStopping, ModelCheckpoint"
   ]
  },
  {
   "cell_type": "markdown",
   "metadata": {},
   "source": [
    "# 2. **이미지 및 레이블**\n",
    "* 이미지 사이즈 조절 및 정규화용 함수"
   ]
  },
  {
   "cell_type": "code",
   "execution_count": 2,
   "metadata": {},
   "outputs": [],
   "source": [
    "def read_and_preprocess(img_path):\n",
    "    img = cv2.imread(img_path, cv2.IMREAD_COLOR)    \n",
    "    img = cv2.resize(img, (256, 256))               \n",
    "    img = np.array(img, dtype='float32')            \n",
    "    img = img/255                                   \n",
    "    return img"
   ]
  },
  {
   "cell_type": "markdown",
   "metadata": {},
   "source": [
    "* 이미지 및 레이블 관리"
   ]
  },
  {
   "cell_type": "code",
   "execution_count": 3,
   "metadata": {},
   "outputs": [],
   "source": [
    "X_train = []\n",
    "y_train = []\n",
    "\n",
    "train_path = \"./train/\""
   ]
  },
  {
   "cell_type": "markdown",
   "metadata": {},
   "source": [
    "* 이미지와 레이블 불러오기"
   ]
  },
  {
   "cell_type": "code",
   "execution_count": 4,
   "metadata": {},
   "outputs": [],
   "source": [
    "for folder in os.scandir(train_path):\n",
    "    for entry in os.scandir(train_path + folder.name):\n",
    "\n",
    "        X_train.append(read_and_preprocess(train_path + folder.name + '/' + entry.name))\n",
    "        \n",
    "        if folder.name[0]=='C':\n",
    "            y_train.append(0)\n",
    "        elif folder.name[0]=='V':\n",
    "            y_train.append(1)\n",
    "        else:\n",
    "            y_train.append(2)"
   ]
  },
  {
   "cell_type": "markdown",
   "metadata": {},
   "source": [
    "# **3. 데이터 전처리**\n",
    "* X-train 및 y_train 내용 확인"
   ]
  },
  {
   "cell_type": "code",
   "execution_count": 5,
   "metadata": {},
   "outputs": [
    {
     "data": {
      "text/plain": [
       "(557, 256, 256, 3)"
      ]
     },
     "execution_count": 5,
     "metadata": {},
     "output_type": "execute_result"
    }
   ],
   "source": [
    "X_train = np.array(X_train)\n",
    "X_train.shape"
   ]
  },
  {
   "cell_type": "code",
   "execution_count": 6,
   "metadata": {},
   "outputs": [
    {
     "data": {
      "text/plain": [
       "(557,)"
      ]
     },
     "execution_count": 6,
     "metadata": {},
     "output_type": "execute_result"
    }
   ],
   "source": [
    "y_train = np.array(y_train)\n",
    "y_train.shape"
   ]
  },
  {
   "cell_type": "markdown",
   "metadata": {},
   "source": [
    "* 레이블별 데이터 갯수 시각화"
   ]
  },
  {
   "cell_type": "code",
   "execution_count": 7,
   "metadata": {},
   "outputs": [
    {
     "data": {
      "text/plain": [
       "<BarContainer object of 3 artists>"
      ]
     },
     "execution_count": 7,
     "metadata": {},
     "output_type": "execute_result"
    },
    {
     "data": {
      "image/png": "[encoded data removed]",
      "text/plain": [
       "<Figure size 432x288 with 1 Axes>"
      ]
     },
     "metadata": {
      "needs_background": "light"
     },
     "output_type": "display_data"
    }
   ],
   "source": [
    "covid_count = len(y_train[y_train==0])\n",
    "pneumonia_count = len(y_train[y_train==1])\n",
    "normal_count = len(y_train[y_train==2])\n",
    "\n",
    "plt.title(\"Train Images for Each Label\")\n",
    "plt.bar([\"Covid\", \"Viral Pneumonia\", \"Normal\"],[covid_count, pneumonia_count, normal_count])"
   ]
  },
  {
   "cell_type": "markdown",
   "metadata": {},
   "source": [
    "* 데이터 증대를 위해 영상 좌우 반전"
   ]
  },
  {
   "cell_type": "code",
   "execution_count": 8,
   "metadata": {},
   "outputs": [],
   "source": [
    "X_aug = []\n",
    "y_aug = []\n",
    "\n",
    "for i in range(0, len(y_train)):\n",
    "    X_new = np.fliplr(X_train[i])\n",
    "    X_aug.append(X_new)\n",
    "    y_aug.append(y_train[i])\n",
    "\n",
    "X_aug = np.array(X_aug)\n",
    "y_aug = np.array(y_aug)"
   ]
  },
  {
   "cell_type": "markdown",
   "metadata": {},
   "source": [
    "* 증배된 데이터 확인"
   ]
  },
  {
   "cell_type": "code",
   "execution_count": 9,
   "metadata": {},
   "outputs": [
    {
     "data": {
      "text/plain": [
       "(1114, 256, 256, 3)"
      ]
     },
     "execution_count": 9,
     "metadata": {},
     "output_type": "execute_result"
    }
   ],
   "source": [
    "X_train = np.append(X_train, X_aug, axis=0)\n",
    "X_train.shape"
   ]
  },
  {
   "cell_type": "code",
   "execution_count": 10,
   "metadata": {},
   "outputs": [
    {
     "data": {
      "text/plain": [
       "(1114,)"
      ]
     },
     "execution_count": 10,
     "metadata": {},
     "output_type": "execute_result"
    }
   ],
   "source": [
    "y_train = np.append(y_train, y_aug, axis=0)\n",
    "y_train.shape"
   ]
  },
  {
   "cell_type": "markdown",
   "metadata": {},
   "source": [
    "* 검증 이미지 불러오기 및 확인"
   ]
  },
  {
   "cell_type": "code",
   "execution_count": 11,
   "metadata": {},
   "outputs": [],
   "source": [
    "X_val = []\n",
    "y_val = []\n",
    "\n",
    "val_path = './test/'\n",
    "\n",
    "for folder in os.scandir(val_path):\n",
    "    for entry in os.scandir(val_path + folder.name):\n",
    "\n",
    "        X_val.append(read_and_preprocess(val_path + folder.name + '/' + entry.name))\n",
    "        \n",
    "        if folder.name[0]=='C':\n",
    "            y_val.append(0)\n",
    "        elif folder.name[0]=='V':\n",
    "            y_val.append(1)\n",
    "        else:\n",
    "            y_val.append(2)\n",
    "            \n",
    "X_val = np.array(X_val)\n",
    "y_val = np.array(y_val)"
   ]
  },
  {
   "cell_type": "code",
   "execution_count": 12,
   "metadata": {},
   "outputs": [
    {
     "data": {
      "text/plain": [
       "(124, 256, 256, 3)"
      ]
     },
     "execution_count": 12,
     "metadata": {},
     "output_type": "execute_result"
    }
   ],
   "source": [
    "X_val.shape"
   ]
  },
  {
   "cell_type": "markdown",
   "metadata": {},
   "source": [
    "* 레이블별 데이터 갯수 시각화"
   ]
  },
  {
   "cell_type": "code",
   "execution_count": 13,
   "metadata": {},
   "outputs": [
    {
     "data": {
      "text/plain": [
       "<BarContainer object of 3 artists>"
      ]
     },
     "execution_count": 13,
     "metadata": {},
     "output_type": "execute_result"
    },
    {
     "data": {
      "image/png": "[encoded data removed]",
      "text/plain": [
       "<Figure size 432x288 with 1 Axes>"
      ]
     },
     "metadata": {
      "needs_background": "light"
     },
     "output_type": "display_data"
    }
   ],
   "source": [
    "covid_count = len(y_val[y_val==0])\n",
    "pneumonia_count = len(y_val[y_val==1])\n",
    "normal_count = len(y_val[y_val==2])\n",
    "\n",
    "plt.title(\"Validation Images for Each Label\")\n",
    "plt.bar([\"Covid\", \"Viral Pneumonia\", \"Normal\"],[covid_count, pneumonia_count, normal_count])"
   ]
  },
  {
   "cell_type": "markdown",
   "metadata": {},
   "source": [
    "# **4. 모델 구축**\n",
    "* 전이학습을 위한 모델 생성(베이스모델 : VGG16)"
   ]
  },
  {
   "cell_type": "code",
   "execution_count": 14,
   "metadata": {},
   "outputs": [],
   "source": [
    "basemodel = VGG16(weights = 'imagenet', include_top = False, input_tensor = Input(shape=(256, 256, 3)))"
   ]
  },
  {
   "cell_type": "markdown",
   "metadata": {},
   "source": [
    "* 모델 레이어 확인"
   ]
  },
  {
   "cell_type": "code",
   "execution_count": 15,
   "metadata": {},
   "outputs": [
    {
     "name": "stdout",
     "output_type": "stream",
     "text": [
      "Model: \"vgg16\"\n",
      "_________________________________________________________________\n",
      "Layer (type)                 Output Shape              Param #   \n",
      "=================================================================\n",
      "input_1 (InputLayer)         [(None, 256, 256, 3)]     0         \n",
      "_________________________________________________________________\n",
      "block1_conv1 (Conv2D)        (None, 256, 256, 64)      1792      \n",
      "_________________________________________________________________\n",
      "block1_conv2 (Conv2D)        (None, 256, 256, 64)      36928     \n",
      "_________________________________________________________________\n",
      "block1_pool (MaxPooling2D)   (None, 128, 128, 64)      0         \n",
      "_________________________________________________________________\n",
      "block2_conv1 (Conv2D)        (None, 128, 128, 128)     73856     \n",
      "_________________________________________________________________\n",
      "block2_conv2 (Conv2D)        (None, 128, 128, 128)     147584    \n",
      "_________________________________________________________________\n",
      "block2_pool (MaxPooling2D)   (None, 64, 64, 128)       0         \n",
      "_________________________________________________________________\n",
      "block3_conv1 (Conv2D)        (None, 64, 64, 256)       295168    \n",
      "_________________________________________________________________\n",
      "block3_conv2 (Conv2D)        (None, 64, 64, 256)       590080    \n",
      "_________________________________________________________________\n",
      "block3_conv3 (Conv2D)        (None, 64, 64, 256)       590080    \n",
      "_________________________________________________________________\n",
      "block3_pool (MaxPooling2D)   (None, 32, 32, 256)       0         \n",
      "_________________________________________________________________\n",
      "block4_conv1 (Conv2D)        (None, 32, 32, 512)       1180160   \n",
      "_________________________________________________________________\n",
      "block4_conv2 (Conv2D)        (None, 32, 32, 512)       2359808   \n",
      "_________________________________________________________________\n",
      "block4_conv3 (Conv2D)        (None, 32, 32, 512)       2359808   \n",
      "_________________________________________________________________\n",
      "block4_pool (MaxPooling2D)   (None, 16, 16, 512)       0         \n",
      "_________________________________________________________________\n",
      "block5_conv1 (Conv2D)        (None, 16, 16, 512)       2359808   \n",
      "_________________________________________________________________\n",
      "block5_conv2 (Conv2D)        (None, 16, 16, 512)       2359808   \n",
      "_________________________________________________________________\n",
      "block5_conv3 (Conv2D)        (None, 16, 16, 512)       2359808   \n",
      "_________________________________________________________________\n",
      "block5_pool (MaxPooling2D)   (None, 8, 8, 512)         0         \n",
      "=================================================================\n",
      "Total params: 14,714,688\n",
      "Trainable params: 14,714,688\n",
      "Non-trainable params: 0\n",
      "_________________________________________________________________\n"
     ]
    }
   ],
   "source": [
    "basemodel.summary()"
   ]
  },
  {
   "cell_type": "markdown",
   "metadata": {},
   "source": [
    "* 베이스 모델 가중치 변경 금지 설정"
   ]
  },
  {
   "cell_type": "code",
   "execution_count": 16,
   "metadata": {},
   "outputs": [],
   "source": [
    "for layer in basemodel.layers:\n",
    "  layers.trainable = False"
   ]
  },
  {
   "cell_type": "markdown",
   "metadata": {},
   "source": [
    "* 사용 안함\n",
    "* 베이스모델 뒤에 추가 레이어 쌓기\n",
    "* C-C-P-FC-dropout-FC 모델"
   ]
  },
  {
   "cell_type": "code",
   "execution_count": 17,
   "metadata": {},
   "outputs": [],
   "source": [
    "#headmodel = basemodel.output\n",
    "#headmodel = Dense(32, activation = 'relu')(headmodel)\n",
    "#headmodel = Dense(64, activation = 'relu')(headmodel)\n",
    "#headmodel = Dropout(0.25)(headmodel)\n",
    "#headmodel = Flatten(name= 'flatten')(headmodel)\n",
    "#headmodel = Dense(128, activation = 'relu')(headmodel)\n",
    "#headmodel = Dropout(0.5)(headmodel)\n",
    "#headmodel = Dense(3, activation = 'softmax')(headmodel)\n",
    "\n",
    "#model = Model(inputs = basemodel.input, outputs = headmodel)"
   ]
  },
  {
   "cell_type": "markdown",
   "metadata": {},
   "source": [
    "* 사용 안함\n",
    "* Dropout-FC 모델"
   ]
  },
  {
   "cell_type": "code",
   "execution_count": 19,
   "metadata": {},
   "outputs": [],
   "source": [
    "#headmodel = basemodel.output\n",
    "#headmodel = Flatten(name= 'flatten')(headmodel)\n",
    "#headmodel = Dense(32, activation = 'relu')(headmodel)\n",
    "#headmodel = Dropout(0.25)(headmodel)\n",
    "#headmodel = Dense(3, activation = 'softmax')(headmodel)\n",
    "\n",
    "#model = Model(inputs = basemodel.input, outputs = headmodel)"
   ]
  },
  {
   "cell_type": "markdown",
   "metadata": {},
   "source": [
    "* 사용\n",
    "* FC 모델"
   ]
  },
  {
   "cell_type": "code",
   "execution_count": 18,
   "metadata": {},
   "outputs": [],
   "source": [
    "headmodel = basemodel.output\n",
    "headmodel = Flatten(name= 'flatten')(headmodel)\n",
    "headmodel = Dense(3, activation = 'softmax')(headmodel)\n",
    "\n",
    "model = Model(inputs = basemodel.input, outputs = headmodel)"
   ]
  },
  {
   "cell_type": "markdown",
   "metadata": {},
   "source": [
    "* 쌓은 모델 레이어 확인"
   ]
  },
  {
   "cell_type": "code",
   "execution_count": 20,
   "metadata": {},
   "outputs": [
    {
     "name": "stdout",
     "output_type": "stream",
     "text": [
      "Model: \"model\"\n",
      "_________________________________________________________________\n",
      "Layer (type)                 Output Shape              Param #   \n",
      "=================================================================\n",
      "input_1 (InputLayer)         [(None, 256, 256, 3)]     0         \n",
      "_________________________________________________________________\n",
      "block1_conv1 (Conv2D)        (None, 256, 256, 64)      1792      \n",
      "_________________________________________________________________\n",
      "block1_conv2 (Conv2D)        (None, 256, 256, 64)      36928     \n",
      "_________________________________________________________________\n",
      "block1_pool (MaxPooling2D)   (None, 128, 128, 64)      0         \n",
      "_________________________________________________________________\n",
      "block2_conv1 (Conv2D)        (None, 128, 128, 128)     73856     \n",
      "_________________________________________________________________\n",
      "block2_conv2 (Conv2D)        (None, 128, 128, 128)     147584    \n",
      "_________________________________________________________________\n",
      "block2_pool (MaxPooling2D)   (None, 64, 64, 128)       0         \n",
      "_________________________________________________________________\n",
      "block3_conv1 (Conv2D)        (None, 64, 64, 256)       295168    \n",
      "_________________________________________________________________\n",
      "block3_conv2 (Conv2D)        (None, 64, 64, 256)       590080    \n",
      "_________________________________________________________________\n",
      "block3_conv3 (Conv2D)        (None, 64, 64, 256)       590080    \n",
      "_________________________________________________________________\n",
      "block3_pool (MaxPooling2D)   (None, 32, 32, 256)       0         \n",
      "_________________________________________________________________\n",
      "block4_conv1 (Conv2D)        (None, 32, 32, 512)       1180160   \n",
      "_________________________________________________________________\n",
      "block4_conv2 (Conv2D)        (None, 32, 32, 512)       2359808   \n",
      "_________________________________________________________________\n",
      "block4_conv3 (Conv2D)        (None, 32, 32, 512)       2359808   \n",
      "_________________________________________________________________\n",
      "block4_pool (MaxPooling2D)   (None, 16, 16, 512)       0         \n",
      "_________________________________________________________________\n",
      "block5_conv1 (Conv2D)        (None, 16, 16, 512)       2359808   \n",
      "_________________________________________________________________\n",
      "block5_conv2 (Conv2D)        (None, 16, 16, 512)       2359808   \n",
      "_________________________________________________________________\n",
      "block5_conv3 (Conv2D)        (None, 16, 16, 512)       2359808   \n",
      "_________________________________________________________________\n",
      "block5_pool (MaxPooling2D)   (None, 8, 8, 512)         0         \n",
      "_________________________________________________________________\n",
      "flatten (Flatten)            (None, 32768)             0         \n",
      "_________________________________________________________________\n",
      "dense (Dense)                (None, 3)                 98307     \n",
      "=================================================================\n",
      "Total params: 14,812,995\n",
      "Trainable params: 14,812,995\n",
      "Non-trainable params: 0\n",
      "_________________________________________________________________\n"
     ]
    }
   ],
   "source": [
    "model.summary()"
   ]
  },
  {
   "cell_type": "markdown",
   "metadata": {},
   "source": [
    "* 옵티마이저 선언"
   ]
  },
  {
   "cell_type": "code",
   "execution_count": 21,
   "metadata": {},
   "outputs": [],
   "source": [
    "opt = optimizers.Adam(learning_rate=0.0001)"
   ]
  },
  {
   "cell_type": "markdown",
   "metadata": {},
   "source": [
    "* 모델 컴파일"
   ]
  },
  {
   "cell_type": "code",
   "execution_count": 22,
   "metadata": {},
   "outputs": [],
   "source": [
    "model.compile(loss = 'sparse_categorical_crossentropy', optimizer=opt, metrics= [\"accuracy\"])"
   ]
  },
  {
   "cell_type": "markdown",
   "metadata": {},
   "source": [
    "* 조기종료 설정"
   ]
  },
  {
   "cell_type": "code",
   "execution_count": 23,
   "metadata": {},
   "outputs": [],
   "source": [
    "earlystopping = EarlyStopping(monitor='val_loss', mode='min', verbose=1, patience=10)"
   ]
  },
  {
   "cell_type": "markdown",
   "metadata": {},
   "source": [
    "* 모델 자동저장 설정"
   ]
  },
  {
   "cell_type": "code",
   "execution_count": 24,
   "metadata": {},
   "outputs": [],
   "source": [
    "checkpointer = ModelCheckpoint(filepath=\"covid_classifier_weights.h5\", verbose=1, save_best_only=True)"
   ]
  },
  {
   "cell_type": "markdown",
   "metadata": {},
   "source": [
    "# **5. 모델 학습**\n",
    "* 모델 학습 시작"
   ]
  },
  {
   "cell_type": "markdown",
   "metadata": {},
   "source": [
    "* 사용\n",
    "* 배치사이즈 16"
   ]
  },
  {
   "cell_type": "code",
   "execution_count": 25,
   "metadata": {
    "scrolled": true
   },
   "outputs": [
    {
     "name": "stdout",
     "output_type": "stream",
     "text": [
      "Epoch 1/100\n",
      "70/70 [==============================] - 26s 206ms/step - loss: 0.3450 - accuracy: 0.8654 - val_loss: 0.1540 - val_accuracy: 0.9113\n",
      "\n",
      "Epoch 00001: val_loss improved from inf to 0.15399, saving model to covid_classifier_weights.h5\n",
      "Epoch 2/100\n",
      "70/70 [==============================] - 10s 137ms/step - loss: 0.0791 - accuracy: 0.9686 - val_loss: 0.2714 - val_accuracy: 0.9113\n",
      "\n",
      "Epoch 00002: val_loss did not improve from 0.15399\n",
      "Epoch 3/100\n",
      "70/70 [==============================] - 10s 141ms/step - loss: 0.0816 - accuracy: 0.9749 - val_loss: 0.1910 - val_accuracy: 0.9274\n",
      "\n",
      "Epoch 00003: val_loss did not improve from 0.15399\n",
      "Epoch 4/100\n",
      "70/70 [==============================] - 10s 141ms/step - loss: 0.1003 - accuracy: 0.9641 - val_loss: 0.0841 - val_accuracy: 0.9758\n",
      "\n",
      "Epoch 00004: val_loss improved from 0.15399 to 0.08408, saving model to covid_classifier_weights.h5\n",
      "Epoch 5/100\n",
      "70/70 [==============================] - 10s 138ms/step - loss: 0.0317 - accuracy: 0.9919 - val_loss: 0.2375 - val_accuracy: 0.9597\n",
      "\n",
      "Epoch 00005: val_loss did not improve from 0.08408\n",
      "Epoch 6/100\n",
      "70/70 [==============================] - 10s 137ms/step - loss: 0.0582 - accuracy: 0.9803 - val_loss: 0.1229 - val_accuracy: 0.9355\n",
      "\n",
      "Epoch 00006: val_loss did not improve from 0.08408\n",
      "Epoch 7/100\n",
      "70/70 [==============================] - 10s 144ms/step - loss: 0.0218 - accuracy: 0.9919 - val_loss: 0.0438 - val_accuracy: 0.9839\n",
      "\n",
      "Epoch 00007: val_loss improved from 0.08408 to 0.04379, saving model to covid_classifier_weights.h5\n",
      "Epoch 8/100\n",
      "70/70 [==============================] - 10s 138ms/step - loss: 0.0092 - accuracy: 0.9982 - val_loss: 0.1333 - val_accuracy: 0.9435\n",
      "\n",
      "Epoch 00008: val_loss did not improve from 0.04379\n",
      "Epoch 9/100\n",
      "70/70 [==============================] - 10s 138ms/step - loss: 0.0363 - accuracy: 0.9901 - val_loss: 0.1230 - val_accuracy: 0.9516\n",
      "\n",
      "Epoch 00009: val_loss did not improve from 0.04379\n",
      "Epoch 10/100\n",
      "70/70 [==============================] - 10s 140ms/step - loss: 0.0079 - accuracy: 0.9973 - val_loss: 0.1403 - val_accuracy: 0.9597\n",
      "\n",
      "Epoch 00010: val_loss did not improve from 0.04379\n",
      "Epoch 11/100\n",
      "70/70 [==============================] - 10s 140ms/step - loss: 6.7711e-04 - accuracy: 1.0000 - val_loss: 0.1807 - val_accuracy: 0.9355\n",
      "\n",
      "Epoch 00011: val_loss did not improve from 0.04379\n",
      "Epoch 12/100\n",
      "70/70 [==============================] - 10s 140ms/step - loss: 0.0154 - accuracy: 0.9937 - val_loss: 0.4878 - val_accuracy: 0.8790\n",
      "\n",
      "Epoch 00012: val_loss did not improve from 0.04379\n",
      "Epoch 13/100\n",
      "70/70 [==============================] - 10s 137ms/step - loss: 0.0652 - accuracy: 0.9820 - val_loss: 0.1148 - val_accuracy: 0.9597\n",
      "\n",
      "Epoch 00013: val_loss did not improve from 0.04379\n",
      "Epoch 14/100\n",
      "70/70 [==============================] - 10s 139ms/step - loss: 0.0684 - accuracy: 0.9749 - val_loss: 0.1492 - val_accuracy: 0.9516\n",
      "\n",
      "Epoch 00014: val_loss did not improve from 0.04379\n",
      "Epoch 15/100\n",
      "70/70 [==============================] - 10s 139ms/step - loss: 0.0179 - accuracy: 0.9955 - val_loss: 0.0918 - val_accuracy: 0.9677\n",
      "\n",
      "Epoch 00015: val_loss did not improve from 0.04379\n",
      "Epoch 16/100\n",
      "70/70 [==============================] - 10s 139ms/step - loss: 0.0030 - accuracy: 0.9991 - val_loss: 0.0884 - val_accuracy: 0.9597\n",
      "\n",
      "Epoch 00016: val_loss did not improve from 0.04379\n",
      "Epoch 17/100\n",
      "70/70 [==============================] - 10s 137ms/step - loss: 7.7516e-04 - accuracy: 1.0000 - val_loss: 0.0957 - val_accuracy: 0.9597\n",
      "\n",
      "Epoch 00017: val_loss did not improve from 0.04379\n",
      "Epoch 00017: early stopping\n"
     ]
    }
   ],
   "source": [
    "history = model.fit(X_train, y_train, epochs = 100, validation_data=(X_val, y_val), batch_size=16, shuffle=True, callbacks=[earlystopping, checkpointer])"
   ]
  },
  {
   "cell_type": "markdown",
   "metadata": {},
   "source": [
    "* 사용 안함\n",
    "* 배치사이즈 32"
   ]
  },
  {
   "cell_type": "code",
   "execution_count": 26,
   "metadata": {},
   "outputs": [],
   "source": [
    "#history = model.fit(X_train, y_train, epochs = 100, validation_data=(X_val, y_val), batch_size=32, shuffle=True, callbacks=[earlystopping, checkpointer])"
   ]
  },
  {
   "cell_type": "markdown",
   "metadata": {},
   "source": [
    "* 학습곡선 시각화"
   ]
  },
  {
   "cell_type": "code",
   "execution_count": 27,
   "metadata": {},
   "outputs": [
    {
     "data": {
      "image/png": "[encoded data removed]",
      "text/plain": [
       "<Figure size 432x288 with 1 Axes>"
      ]
     },
     "metadata": {
      "needs_background": "light"
     },
     "output_type": "display_data"
    }
   ],
   "source": [
    "plt.plot(history.history['loss'])\n",
    "plt.plot(history.history['val_loss'])\n",
    "plt.title('model loss')\n",
    "plt.ylabel('loss')\n",
    "plt.xlabel('epoch')\n",
    "plt.legend(['train', 'test'], loc='upper right')\n",
    "plt.show()"
   ]
  },
  {
   "cell_type": "code",
   "execution_count": 28,
   "metadata": {},
   "outputs": [
    {
     "data": {
      "image/png": "[encoded data removed]",
      "text/plain": [
       "<Figure size 432x288 with 1 Axes>"
      ]
     },
     "metadata": {
      "needs_background": "light"
     },
     "output_type": "display_data"
    }
   ],
   "source": [
    "plt.plot(history.history['accuracy'])\n",
    "plt.plot(history.history['val_accuracy'])\n",
    "plt.title('model accuracy')\n",
    "plt.ylabel('accuracy')\n",
    "plt.xlabel('epoch')\n",
    "plt.legend(['train', 'test'], loc='upper left')\n",
    "plt.show()"
   ]
  },
  {
   "cell_type": "markdown",
   "metadata": {},
   "source": [
    "# **6. JSON 형식으로 파일 저장**\n",
    "* 모델 구성 json으로 저장"
   ]
  },
  {
   "cell_type": "code",
   "execution_count": 29,
   "metadata": {},
   "outputs": [],
   "source": [
    "model_json = model.to_json()\n",
    "with open(\"covid_classifier_model.json\",\"w\") as json_file:\n",
    "  json_file.write(model_json)"
   ]
  },
  {
   "cell_type": "markdown",
   "metadata": {},
   "source": [
    "# **7. 모델 평가**\n",
    "* 저장한 모델 평가를 위한 모델 불러오기"
   ]
  },
  {
   "cell_type": "code",
   "execution_count": 30,
   "metadata": {},
   "outputs": [],
   "source": [
    "with open('covid_classifier_model.json', 'r') as json_file:\n",
    "    json_savedModel= json_file.read()\n",
    "\n",
    "model = tf.keras.models.model_from_json(json_savedModel)\n",
    "model.load_weights('covid_classifier_weights.h5')\n",
    "model.compile(loss = 'sparse_categorical_crossentropy', optimizer=opt, metrics= [\"accuracy\"])"
   ]
  },
  {
   "cell_type": "code",
   "execution_count": 31,
   "metadata": {},
   "outputs": [],
   "source": [
    "predictions = model.predict(X_val)"
   ]
  },
  {
   "cell_type": "markdown",
   "metadata": {},
   "source": [
    "* 예측 데이터 확인"
   ]
  },
  {
   "cell_type": "code",
   "execution_count": 32,
   "metadata": {},
   "outputs": [
    {
     "data": {
      "text/plain": [
       "(124, 3)"
      ]
     },
     "execution_count": 32,
     "metadata": {},
     "output_type": "execute_result"
    }
   ],
   "source": [
    "predictions.shape"
   ]
  },
  {
   "cell_type": "markdown",
   "metadata": {},
   "source": [
    "* 모델 예측 시작"
   ]
  },
  {
   "cell_type": "code",
   "execution_count": 33,
   "metadata": {},
   "outputs": [],
   "source": [
    "predict = []\n",
    "\n",
    "for i in predictions:\n",
    "  predict.append(np.argmax(i))\n",
    "\n",
    "predict = np.asarray(predict)"
   ]
  },
  {
   "cell_type": "markdown",
   "metadata": {},
   "source": [
    "* 모델 정확도 확인"
   ]
  },
  {
   "cell_type": "code",
   "execution_count": 34,
   "metadata": {},
   "outputs": [
    {
     "name": "stdout",
     "output_type": "stream",
     "text": [
      "              precision    recall  f1-score   support\n",
      "\n",
      "           0       1.00      1.00      1.00        54\n",
      "           1       0.91      1.00      0.95        20\n",
      "           2       1.00      0.96      0.98        50\n",
      "\n",
      "    accuracy                           0.98       124\n",
      "   macro avg       0.97      0.99      0.98       124\n",
      "weighted avg       0.99      0.98      0.98       124\n",
      "\n"
     ]
    }
   ],
   "source": [
    "from sklearn.metrics import accuracy_score\n",
    "\n",
    "accuracy = accuracy_score(y_val, predict)\n",
    "accuracy\n",
    "\n",
    "from sklearn.metrics import classification_report\n",
    "\n",
    "report = classification_report(y_val, predict)\n",
    "print(report)"
   ]
  },
  {
   "cell_type": "markdown",
   "metadata": {},
   "source": [
    "* 혼동행렬 확인"
   ]
  },
  {
   "cell_type": "code",
   "execution_count": 35,
   "metadata": {},
   "outputs": [
    {
     "data": {
      "text/plain": [
       "<AxesSubplot:>"
      ]
     },
     "execution_count": 35,
     "metadata": {},
     "output_type": "execute_result"
    },
    {
     "data": {
      "image/png": "[encoded data removed]",
      "text/plain": [
       "<Figure size 504x504 with 2 Axes>"
      ]
     },
     "metadata": {
      "needs_background": "light"
     },
     "output_type": "display_data"
    }
   ],
   "source": [
    "from sklearn.metrics import confusion_matrix\n",
    "\n",
    "cm = confusion_matrix(y_val, predict)\n",
    "plt.figure(figsize = (7,7))\n",
    "sns.heatmap(cm, annot=True, cmap='Blues')"
   ]
  },
  {
   "cell_type": "code",
   "execution_count": null,
   "metadata": {},
   "outputs": [],
   "source": []
  }
 ],
 "metadata": {
  "interpreter": {
   "hash": "ba6c0b500b337a3ffd66c9b67313e4affd215fbda1074d02b914b9718c5d291e"
  },
  "kernelspec": {
   "display_name": "Python 3",
   "language": "python",
   "name": "python3"
  },
  "language_info": {
   "codemirror_mode": {
    "name": "ipython",
    "version": 3
   },
   "file_extension": ".py",
   "mimetype": "text/x-python",
   "name": "python",
   "nbconvert_exporter": "python",
   "pygments_lexer": "ipython3",
   "version": "3.8.5"
  }
 },
 "nbformat": 4,
 "nbformat_minor": 4
}
